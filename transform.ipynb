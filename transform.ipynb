{
 "cells": [
  {
   "cell_type": "code",
   "execution_count": 0,
   "metadata": {
    "application/vnd.databricks.v1+cell": {
     "cellMetadata": {
      "byteLimit": 2048000,
      "rowLimit": 10000
     },
     "inputWidgets": {},
     "nuid": "5d54b7de-47b8-49bc-9da7-0b10a50c7b39",
     "showTitle": false,
     "title": ""
    }
   },
   "outputs": [],
   "source": [
    "from pyspark.sql.functions import *\n",
    "from pyspark.sql.types import StringType\n",
    "\n"
   ]
  },
  {
   "cell_type": "code",
   "execution_count": 0,
   "metadata": {
    "application/vnd.databricks.v1+cell": {
     "cellMetadata": {
      "byteLimit": 2048000,
      "rowLimit": 10000
     },
     "inputWidgets": {},
     "nuid": "b7f58ecb-2d72-4762-9c6a-1ea7980e7d40",
     "showTitle": false,
     "title": ""
    }
   },
   "outputs": [],
   "source": [
    "payments = spark.table(\"default.staging_paymets\")"
   ]
  },
  {
   "cell_type": "code",
   "execution_count": 0,
   "metadata": {
    "application/vnd.databricks.v1+cell": {
     "cellMetadata": {
      "byteLimit": 2048000,
      "rowLimit": 10000
     },
     "inputWidgets": {},
     "nuid": "241401f3-1d0d-45a1-9f18-c5e3595da7f3",
     "showTitle": false,
     "title": ""
    }
   },
   "outputs": [
    {
     "output_type": "display_data",
     "data": {
      "text/html": [
       "<style scoped>\n",
       "  .table-result-container {\n",
       "    max-height: 300px;\n",
       "    overflow: auto;\n",
       "  }\n",
       "  table, th, td {\n",
       "    border: 1px solid black;\n",
       "    border-collapse: collapse;\n",
       "  }\n",
       "  th, td {\n",
       "    padding: 5px;\n",
       "  }\n",
       "  th {\n",
       "    text-align: left;\n",
       "  }\n",
       "</style><div class='table-result-container'><table class='table-result'><thead style='background-color: white'><tr><th>payment_id</th><th>date</th><th>amount</th><th>rider_id</th></tr></thead><tbody><tr><td>2</td><td>2019-06-01</td><td>9.0</td><td>1000</td></tr><tr><td>3</td><td>2019-07-01</td><td>9.0</td><td>1000</td></tr><tr><td>4</td><td>2019-08-01</td><td>9.0</td><td>1000</td></tr><tr><td>5</td><td>2019-09-01</td><td>9.0</td><td>1000</td></tr><tr><td>6</td><td>2019-10-01</td><td>9.0</td><td>1000</td></tr><tr><td>7</td><td>2019-11-01</td><td>9.0</td><td>1000</td></tr><tr><td>8</td><td>2019-12-01</td><td>9.0</td><td>1000</td></tr><tr><td>9</td><td>2020-01-01</td><td>9.0</td><td>1000</td></tr><tr><td>10</td><td>2020-02-01</td><td>9.0</td><td>1000</td></tr><tr><td>11</td><td>2020-03-01</td><td>9.0</td><td>1000</td></tr></tbody></table></div>"
      ]
     },
     "metadata": {
      "application/vnd.databricks.v1+output": {
       "addedWidgets": {},
       "aggData": [],
       "aggError": "",
       "aggOverflow": false,
       "aggSchema": [],
       "aggSeriesLimitReached": false,
       "aggType": "",
       "arguments": {},
       "columnCustomDisplayInfos": {},
       "data": [
        [
         "2",
         "2019-06-01",
         "9.0",
         "1000"
        ],
        [
         "3",
         "2019-07-01",
         "9.0",
         "1000"
        ],
        [
         "4",
         "2019-08-01",
         "9.0",
         "1000"
        ],
        [
         "5",
         "2019-09-01",
         "9.0",
         "1000"
        ],
        [
         "6",
         "2019-10-01",
         "9.0",
         "1000"
        ],
        [
         "7",
         "2019-11-01",
         "9.0",
         "1000"
        ],
        [
         "8",
         "2019-12-01",
         "9.0",
         "1000"
        ],
        [
         "9",
         "2020-01-01",
         "9.0",
         "1000"
        ],
        [
         "10",
         "2020-02-01",
         "9.0",
         "1000"
        ],
        [
         "11",
         "2020-03-01",
         "9.0",
         "1000"
        ]
       ],
       "datasetInfos": [],
       "dbfsResultPath": null,
       "isJsonSchema": true,
       "metadata": {},
       "overflow": false,
       "plotOptions": {
        "customPlotOptions": {},
        "displayType": "table",
        "pivotAggregation": null,
        "pivotColumns": null,
        "xColumns": null,
        "yColumns": null
       },
       "removedWidgets": [],
       "schema": [
        {
         "metadata": "{}",
         "name": "payment_id",
         "type": "\"string\""
        },
        {
         "metadata": "{}",
         "name": "date",
         "type": "\"string\""
        },
        {
         "metadata": "{}",
         "name": "amount",
         "type": "\"string\""
        },
        {
         "metadata": "{}",
         "name": "rider_id",
         "type": "\"string\""
        }
       ],
       "type": "table"
      }
     },
     "output_type": "display_data"
    },
    {
     "output_type": "stream",
     "name": "stdout",
     "output_type": "stream",
     "text": [
      "Out[8]: <bound method DataFrame.printSchema of DataFrame[payment_id: string, date: string, amount: string, rider_id: string]>"
     ]
    }
   ],
   "source": [
    "display(payments.limit(10))\n",
    "\n",
    "payments.printSchema"
   ]
  },
  {
   "cell_type": "code",
   "execution_count": 0,
   "metadata": {
    "application/vnd.databricks.v1+cell": {
     "cellMetadata": {
      "byteLimit": 2048000,
      "rowLimit": 10000
     },
     "inputWidgets": {},
     "nuid": "e3ee5f4b-68e4-440c-be8b-c709e8c6bb89",
     "showTitle": false,
     "title": ""
    }
   },
   "outputs": [
    {
     "output_type": "stream",
     "name": "stdout",
     "output_type": "stream",
     "text": [
      "Out[9]: DataFrame[]"
     ]
    }
   ],
   "source": [
    "spark.sql(\"DROP TABLE IF EXISTS fact_payments\")"
   ]
  },
  {
   "cell_type": "code",
   "execution_count": 0,
   "metadata": {
    "application/vnd.databricks.v1+cell": {
     "cellMetadata": {
      "byteLimit": 2048000,
      "rowLimit": 10000
     },
     "inputWidgets": {},
     "nuid": "492d4d17-5403-4bdd-8c29-9603aca3e47a",
     "showTitle": false,
     "title": ""
    }
   },
   "outputs": [],
   "source": [
    "payments.write.format(\"delta\").mode(\"overwrite\").saveAsTable(\"fact_payments\")"
   ]
  },
  {
   "cell_type": "code",
   "execution_count": 0,
   "metadata": {
    "application/vnd.databricks.v1+cell": {
     "cellMetadata": {
      "byteLimit": 2048000,
      "rowLimit": 10000
     },
     "inputWidgets": {},
     "nuid": "e3427b19-7b15-4601-afe9-9088d180aefd",
     "showTitle": false,
     "title": ""
    }
   },
   "outputs": [],
   "source": [
    "trips = spark.table(\"default.staging_trips\")\n",
    "riders = spark.table(\"default.staging_riders\")\n",
    "\n"
   ]
  },
  {
   "cell_type": "code",
   "execution_count": 0,
   "metadata": {
    "application/vnd.databricks.v1+cell": {
     "cellMetadata": {
      "byteLimit": 2048000,
      "rowLimit": 10000
     },
     "inputWidgets": {},
     "nuid": "1155e280-526d-4e90-a070-995413cc4e3d",
     "showTitle": false,
     "title": ""
    }
   },
   "outputs": [
    {
     "output_type": "display_data",
     "data": {
      "text/html": [
       "<style scoped>\n",
       "  .table-result-container {\n",
       "    max-height: 300px;\n",
       "    overflow: auto;\n",
       "  }\n",
       "  table, th, td {\n",
       "    border: 1px solid black;\n",
       "    border-collapse: collapse;\n",
       "  }\n",
       "  th, td {\n",
       "    padding: 5px;\n",
       "  }\n",
       "  th {\n",
       "    text-align: left;\n",
       "  }\n",
       "</style><div class='table-result-container'><table class='table-result'><thead style='background-color: white'><tr><th>trip_id</th><th>rider_id</th><th>rideable_type</th><th>started_at</th><th>ended_at</th><th>start_station_id</th><th>end_station_id</th><th>age</th><th>duration</th></tr></thead><tbody><tr><td>9506E0F317DE3528</td><td>47823</td><td>classic_bike</td><td>2021-08-06 22:49:29</td><td>2021-08-06 22:55:16</td><td>13146</td><td>TA1309000024</td><td>28.0</td><td>6.0</td></tr><tr><td>02F52EC184442971</td><td>71777</td><td>electric_bike</td><td>2021-08-23 09:51:29</td><td>2021-08-23 10:00:29</td><td>13146</td><td>TA1307000151</td><td>33.0</td><td>9.0</td></tr><tr><td>B47FF3EEB2039C65</td><td>39370</td><td>electric_bike</td><td>2021-08-24 11:02:39</td><td>2021-08-24 11:05:40</td><td>13206</td><td>13158</td><td>32.0</td><td>3.0</td></tr><tr><td>CA6B1F0DE566112F</td><td>14990</td><td>docked_bike</td><td>2021-08-12 12:03:00</td><td>2021-08-12 12:21:01</td><td>13430</td><td>TA1307000151</td><td>39.0</td><td>18.0</td></tr><tr><td>D97271CCFC2B5076</td><td>69717</td><td>classic_bike</td><td>2021-08-05 23:07:41</td><td>2021-08-05 23:13:31</td><td>13146</td><td>TA1309000024</td><td>17.0</td><td>6.0</td></tr><tr><td>7FFF0C8B55E9EAE8</td><td>67920</td><td>classic_bike</td><td>2021-08-29 15:11:37</td><td>2021-08-29 15:29:23</td><td>13146</td><td>13278</td><td>18.0</td><td>18.0</td></tr><tr><td>7CAE020D54FC25FC</td><td>74623</td><td>classic_bike</td><td>2021-08-02 22:23:44</td><td>2021-08-02 22:41:23</td><td>13146</td><td>13278</td><td>27.0</td><td>18.0</td></tr><tr><td>8F6B49548B56B371</td><td>42281</td><td>classic_bike</td><td>2021-08-22 01:49:26</td><td>2021-08-22 01:56:02</td><td>13146</td><td>TA1309000024</td><td>17.0</td><td>7.0</td></tr><tr><td>4EB138A939033459</td><td>9166</td><td>classic_bike</td><td>2021-08-18 16:59:10</td><td>2021-08-18 17:26:20</td><td>13146</td><td>13158</td><td>21.0</td><td>27.0</td></tr><tr><td>AF621584FA0FFDCA</td><td>24637</td><td>classic_bike</td><td>2021-08-28 19:52:49</td><td>2021-08-28 19:59:13</td><td>13146</td><td>TA1309000024</td><td>28.0</td><td>6.0</td></tr></tbody></table></div>"
      ]
     },
     "metadata": {
      "application/vnd.databricks.v1+output": {
       "addedWidgets": {},
       "aggData": [],
       "aggError": "",
       "aggOverflow": false,
       "aggSchema": [],
       "aggSeriesLimitReached": false,
       "aggType": "",
       "arguments": {},
       "columnCustomDisplayInfos": {},
       "data": [
        [
         "9506E0F317DE3528",
         "47823",
         "classic_bike",
         "2021-08-06 22:49:29",
         "2021-08-06 22:55:16",
         "13146",
         "TA1309000024",
         28.0,
         6.0
        ],
        [
         "02F52EC184442971",
         "71777",
         "electric_bike",
         "2021-08-23 09:51:29",
         "2021-08-23 10:00:29",
         "13146",
         "TA1307000151",
         33.0,
         9.0
        ],
        [
         "B47FF3EEB2039C65",
         "39370",
         "electric_bike",
         "2021-08-24 11:02:39",
         "2021-08-24 11:05:40",
         "13206",
         "13158",
         32.0,
         3.0
        ],
        [
         "CA6B1F0DE566112F",
         "14990",
         "docked_bike",
         "2021-08-12 12:03:00",
         "2021-08-12 12:21:01",
         "13430",
         "TA1307000151",
         39.0,
         18.0
        ],
        [
         "D97271CCFC2B5076",
         "69717",
         "classic_bike",
         "2021-08-05 23:07:41",
         "2021-08-05 23:13:31",
         "13146",
         "TA1309000024",
         17.0,
         6.0
        ],
        [
         "7FFF0C8B55E9EAE8",
         "67920",
         "classic_bike",
         "2021-08-29 15:11:37",
         "2021-08-29 15:29:23",
         "13146",
         "13278",
         18.0,
         18.0
        ],
        [
         "7CAE020D54FC25FC",
         "74623",
         "classic_bike",
         "2021-08-02 22:23:44",
         "2021-08-02 22:41:23",
         "13146",
         "13278",
         27.0,
         18.0
        ],
        [
         "8F6B49548B56B371",
         "42281",
         "classic_bike",
         "2021-08-22 01:49:26",
         "2021-08-22 01:56:02",
         "13146",
         "TA1309000024",
         17.0,
         7.0
        ],
        [
         "4EB138A939033459",
         "9166",
         "classic_bike",
         "2021-08-18 16:59:10",
         "2021-08-18 17:26:20",
         "13146",
         "13158",
         21.0,
         27.0
        ],
        [
         "AF621584FA0FFDCA",
         "24637",
         "classic_bike",
         "2021-08-28 19:52:49",
         "2021-08-28 19:59:13",
         "13146",
         "TA1309000024",
         28.0,
         6.0
        ]
       ],
       "datasetInfos": [],
       "dbfsResultPath": null,
       "isJsonSchema": true,
       "metadata": {},
       "overflow": false,
       "plotOptions": {
        "customPlotOptions": {},
        "displayType": "table",
        "pivotAggregation": null,
        "pivotColumns": null,
        "xColumns": null,
        "yColumns": null
       },
       "removedWidgets": [],
       "schema": [
        {
         "metadata": "{}",
         "name": "trip_id",
         "type": "\"string\""
        },
        {
         "metadata": "{}",
         "name": "rider_id",
         "type": "\"string\""
        },
        {
         "metadata": "{}",
         "name": "rideable_type",
         "type": "\"string\""
        },
        {
         "metadata": "{}",
         "name": "started_at",
         "type": "\"string\""
        },
        {
         "metadata": "{}",
         "name": "ended_at",
         "type": "\"string\""
        },
        {
         "metadata": "{}",
         "name": "start_station_id",
         "type": "\"string\""
        },
        {
         "metadata": "{}",
         "name": "end_station_id",
         "type": "\"string\""
        },
        {
         "metadata": "{}",
         "name": "age",
         "type": "\"double\""
        },
        {
         "metadata": "{}",
         "name": "duration",
         "type": "\"double\""
        }
       ],
       "type": "table"
      }
     },
     "output_type": "display_data"
    }
   ],
   "source": [
    "fact_trips = trips.join(riders, trips.rider_id == riders.rider_id,\"inner\") \\\n",
    ".withColumn('age', round(datediff( to_date(\"account_start_date\"), to_date(\"birthday\"))/365.25)) \\\n",
    ".withColumn('duration', round((unix_timestamp(\"ended_at\") - unix_timestamp(\"started_at\"))/60)) \\\n",
    ".select(\"trip_id\", riders.rider_id, \"rideable_type\", \"started_at\", \"ended_at\", \"start_station_id\", \"end_station_id\", \"age\", \"duration\")\n",
    "display(fact_trips.limit(10))"
   ]
  },
  {
   "cell_type": "code",
   "execution_count": 0,
   "metadata": {
    "application/vnd.databricks.v1+cell": {
     "cellMetadata": {
      "byteLimit": 2048000,
      "rowLimit": 10000
     },
     "inputWidgets": {},
     "nuid": "69e47f08-f19e-4f71-93b1-07f7cd3b5cd4",
     "showTitle": false,
     "title": ""
    }
   },
   "outputs": [],
   "source": [
    "fact_trips.write.format(\"delta\").mode(\"overwrite\").saveAsTable(\"fact_trips\")"
   ]
  },
  {
   "cell_type": "code",
   "execution_count": 0,
   "metadata": {
    "application/vnd.databricks.v1+cell": {
     "cellMetadata": {
      "byteLimit": 2048000,
      "rowLimit": 10000
     },
     "inputWidgets": {},
     "nuid": "45979d94-2293-4a33-bc61-b65c0a120ad3",
     "showTitle": false,
     "title": ""
    }
   },
   "outputs": [],
   "source": [
    "stations = spark.table(\"default.staging_stations\")"
   ]
  },
  {
   "cell_type": "code",
   "execution_count": 0,
   "metadata": {
    "application/vnd.databricks.v1+cell": {
     "cellMetadata": {
      "byteLimit": 2048000,
      "rowLimit": 10000
     },
     "inputWidgets": {},
     "nuid": "2121028c-cbdc-4f89-96f9-cc55b1765326",
     "showTitle": false,
     "title": ""
    }
   },
   "outputs": [
    {
     "output_type": "display_data",
     "data": {
      "text/html": [
       "<style scoped>\n",
       "  .table-result-container {\n",
       "    max-height: 300px;\n",
       "    overflow: auto;\n",
       "  }\n",
       "  table, th, td {\n",
       "    border: 1px solid black;\n",
       "    border-collapse: collapse;\n",
       "  }\n",
       "  th, td {\n",
       "    padding: 5px;\n",
       "  }\n",
       "  th {\n",
       "    text-align: left;\n",
       "  }\n",
       "</style><div class='table-result-container'><table class='table-result'><thead style='background-color: white'><tr><th>station_id</th><th>name</th><th>latitude</th><th>longtitude</th></tr></thead><tbody><tr><td>KA1503000012</td><td>Clark St & Lake St</td><td>41.88579466666667</td><td>-87.63110066666668</td></tr><tr><td>637</td><td>Wood St & Chicago Ave</td><td>41.895634</td><td>-87.672069</td></tr><tr><td>13216</td><td>State St & 33rd St</td><td>41.8347335</td><td>-87.6258275</td></tr><tr><td>18003</td><td>Fairbanks St & Superior St</td><td>41.89580766666667</td><td>-87.62025316666669</td></tr><tr><td>KP1705001026</td><td>LaSalle Dr & Huron St</td><td>41.894877</td><td>-87.632326</td></tr><tr><td>13253</td><td>Lincoln Ave & Waveland Ave</td><td>41.948797</td><td>-87.675278</td></tr><tr><td>KA1503000044</td><td>Rush St & Hubbard St</td><td>41.890173</td><td>-87.62618499999999</td></tr><tr><td>KA1504000140</td><td>Winchester Ave & Elston Ave</td><td>41.92403733333333</td><td>-87.67641483333334</td></tr><tr><td>TA1305000032</td><td>Clinton St & Madison St</td><td>41.882242</td><td>-87.64106600000001</td></tr><tr><td>TA1306000012</td><td>Wells St & Huron St</td><td>41.89475366666667</td><td>-87.63440200000001</td></tr></tbody></table></div>"
      ]
     },
     "metadata": {
      "application/vnd.databricks.v1+output": {
       "addedWidgets": {},
       "aggData": [],
       "aggError": "",
       "aggOverflow": false,
       "aggSchema": [],
       "aggSeriesLimitReached": false,
       "aggType": "",
       "arguments": {},
       "columnCustomDisplayInfos": {},
       "data": [
        [
         "KA1503000012",
         "Clark St & Lake St",
         "41.88579466666667",
         "-87.63110066666668"
        ],
        [
         "637",
         "Wood St & Chicago Ave",
         "41.895634",
         "-87.672069"
        ],
        [
         "13216",
         "State St & 33rd St",
         "41.8347335",
         "-87.6258275"
        ],
        [
         "18003",
         "Fairbanks St & Superior St",
         "41.89580766666667",
         "-87.62025316666669"
        ],
        [
         "KP1705001026",
         "LaSalle Dr & Huron St",
         "41.894877",
         "-87.632326"
        ],
        [
         "13253",
         "Lincoln Ave & Waveland Ave",
         "41.948797",
         "-87.675278"
        ],
        [
         "KA1503000044",
         "Rush St & Hubbard St",
         "41.890173",
         "-87.62618499999999"
        ],
        [
         "KA1504000140",
         "Winchester Ave & Elston Ave",
         "41.92403733333333",
         "-87.67641483333334"
        ],
        [
         "TA1305000032",
         "Clinton St & Madison St",
         "41.882242",
         "-87.64106600000001"
        ],
        [
         "TA1306000012",
         "Wells St & Huron St",
         "41.89475366666667",
         "-87.63440200000001"
        ]
       ],
       "datasetInfos": [],
       "dbfsResultPath": null,
       "isJsonSchema": true,
       "metadata": {},
       "overflow": false,
       "plotOptions": {
        "customPlotOptions": {},
        "displayType": "table",
        "pivotAggregation": null,
        "pivotColumns": null,
        "xColumns": null,
        "yColumns": null
       },
       "removedWidgets": [],
       "schema": [
        {
         "metadata": "{}",
         "name": "station_id",
         "type": "\"string\""
        },
        {
         "metadata": "{}",
         "name": "name",
         "type": "\"string\""
        },
        {
         "metadata": "{}",
         "name": "latitude",
         "type": "\"string\""
        },
        {
         "metadata": "{}",
         "name": "longtitude",
         "type": "\"string\""
        }
       ],
       "type": "table"
      }
     },
     "output_type": "display_data"
    }
   ],
   "source": [
    "display(stations.limit(10))"
   ]
  },
  {
   "cell_type": "code",
   "execution_count": 0,
   "metadata": {
    "application/vnd.databricks.v1+cell": {
     "cellMetadata": {
      "byteLimit": 2048000,
      "rowLimit": 10000
     },
     "inputWidgets": {},
     "nuid": "c8765e85-f01f-4a80-a897-ef25894b6ae5",
     "showTitle": false,
     "title": ""
    }
   },
   "outputs": [
    {
     "output_type": "stream",
     "name": "stdout",
     "output_type": "stream",
     "text": [
      "Out[16]: DataFrame[]"
     ]
    }
   ],
   "source": [
    "spark.sql(\"DROP TABLE IF EXISTS dim_stations\")"
   ]
  },
  {
   "cell_type": "code",
   "execution_count": 0,
   "metadata": {
    "application/vnd.databricks.v1+cell": {
     "cellMetadata": {
      "byteLimit": 2048000,
      "rowLimit": 10000
     },
     "inputWidgets": {},
     "nuid": "9057bfc3-00b5-4cec-8398-e99bfa46c9b1",
     "showTitle": false,
     "title": ""
    }
   },
   "outputs": [],
   "source": [
    "stations.write.format(\"delta\").mode(\"overwrite\").saveAsTable(\"dim_stations\")"
   ]
  },
  {
   "cell_type": "code",
   "execution_count": 0,
   "metadata": {
    "application/vnd.databricks.v1+cell": {
     "cellMetadata": {
      "byteLimit": 2048000,
      "rowLimit": 10000
     },
     "inputWidgets": {},
     "nuid": "0d1b80ab-e269-41a9-a45b-b341cb776e81",
     "showTitle": false,
     "title": ""
    }
   },
   "outputs": [
    {
     "output_type": "stream",
     "name": "stdout",
     "output_type": "stream",
     "text": [
      "Out[18]: DataFrame[]"
     ]
    }
   ],
   "source": [
    "spark.sql(\"DROP TABLE IF EXISTS dim_riders\")"
   ]
  },
  {
   "cell_type": "code",
   "execution_count": 0,
   "metadata": {
    "application/vnd.databricks.v1+cell": {
     "cellMetadata": {
      "byteLimit": 2048000,
      "rowLimit": 10000
     },
     "inputWidgets": {},
     "nuid": "a6936620-3f4c-41f0-88a6-5abd57913cbb",
     "showTitle": false,
     "title": ""
    }
   },
   "outputs": [],
   "source": [
    "riders.write.format(\"delta\").mode(\"overwrite\").saveAsTable(\"dim_riders\")"
   ]
  },
  {
   "cell_type": "code",
   "execution_count": 0,
   "metadata": {
    "application/vnd.databricks.v1+cell": {
     "cellMetadata": {
      "byteLimit": 2048000,
      "rowLimit": 10000
     },
     "inputWidgets": {},
     "nuid": "1544fcac-6a38-4e74-a66f-a2e3944edefd",
     "showTitle": false,
     "title": ""
    }
   },
   "outputs": [
    {
     "output_type": "stream",
     "name": "stdout",
     "output_type": "stream",
     "text": [
      "Out[20]: DataFrame[trip_id: string, rideable_type: string, started_at: string, ended_at: string, start_station_id: string, end_station_id: string, rider_id: string]"
     ]
    }
   ],
   "source": [
    "trips"
   ]
  },
  {
   "cell_type": "code",
   "execution_count": 0,
   "metadata": {
    "application/vnd.databricks.v1+cell": {
     "cellMetadata": {
      "byteLimit": 2048000,
      "rowLimit": 10000
     },
     "inputWidgets": {},
     "nuid": "00abd72c-80f3-414e-9698-17e9dadd0a46",
     "showTitle": false,
     "title": ""
    }
   },
   "outputs": [],
   "source": [
    "max_date = trips.selectExpr('MAX(ended_at) as ended_at').first().asDict() ['ended_at']\n",
    "min_date = trips.selectExpr('MIN(started_at) as started_at').first().asDict() ['started_at']\n",
    "\n",
    "dim_date = spark.createDataFrame([(1,)], [\"time_id\"])\n",
    "\n",
    "dim_date = dim_date.withColumn(\"initial_date\", explode(expr(f\"sequence(to_date('{min_date}'), to_date('{max_date}'), interval 1 day)\")))\n",
    "dim_date = dim_date.withColumn(\"date\", to_timestamp(dim_date.initial_date))\n"
   ]
  },
  {
   "cell_type": "code",
   "execution_count": 0,
   "metadata": {
    "application/vnd.databricks.v1+cell": {
     "cellMetadata": {
      "byteLimit": 2048000,
      "rowLimit": 10000
     },
     "inputWidgets": {},
     "nuid": "b4059dea-eac6-46cc-8172-8c9ca9ff4c23",
     "showTitle": false,
     "title": ""
    }
   },
   "outputs": [
    {
     "output_type": "display_data",
     "data": {
      "text/html": [
       "<style scoped>\n",
       "  .table-result-container {\n",
       "    max-height: 300px;\n",
       "    overflow: auto;\n",
       "  }\n",
       "  table, th, td {\n",
       "    border: 1px solid black;\n",
       "    border-collapse: collapse;\n",
       "  }\n",
       "  th, td {\n",
       "    padding: 5px;\n",
       "  }\n",
       "  th {\n",
       "    text-align: left;\n",
       "  }\n",
       "</style><div class='table-result-container'><table class='table-result'><thead style='background-color: white'><tr><th>time_id</th><th>date</th><th>day</th><th>month</th><th>quarter</th><th>year</th><th>day_of_year</th><th>day_of_week</th></tr></thead><tbody><tr><td>2021-02-01 00:00:00</td><td>2021-02-01T00:00:00.000+0000</td><td>1</td><td>2</td><td>1</td><td>2021</td><td>32</td><td>2</td></tr><tr><td>2021-02-02 00:00:00</td><td>2021-02-02T00:00:00.000+0000</td><td>2</td><td>2</td><td>1</td><td>2021</td><td>33</td><td>3</td></tr><tr><td>2021-02-03 00:00:00</td><td>2021-02-03T00:00:00.000+0000</td><td>3</td><td>2</td><td>1</td><td>2021</td><td>34</td><td>4</td></tr><tr><td>2021-02-04 00:00:00</td><td>2021-02-04T00:00:00.000+0000</td><td>4</td><td>2</td><td>1</td><td>2021</td><td>35</td><td>5</td></tr><tr><td>2021-02-05 00:00:00</td><td>2021-02-05T00:00:00.000+0000</td><td>5</td><td>2</td><td>1</td><td>2021</td><td>36</td><td>6</td></tr><tr><td>2021-02-06 00:00:00</td><td>2021-02-06T00:00:00.000+0000</td><td>6</td><td>2</td><td>1</td><td>2021</td><td>37</td><td>7</td></tr><tr><td>2021-02-07 00:00:00</td><td>2021-02-07T00:00:00.000+0000</td><td>7</td><td>2</td><td>1</td><td>2021</td><td>38</td><td>1</td></tr><tr><td>2021-02-08 00:00:00</td><td>2021-02-08T00:00:00.000+0000</td><td>8</td><td>2</td><td>1</td><td>2021</td><td>39</td><td>2</td></tr><tr><td>2021-02-09 00:00:00</td><td>2021-02-09T00:00:00.000+0000</td><td>9</td><td>2</td><td>1</td><td>2021</td><td>40</td><td>3</td></tr><tr><td>2021-02-10 00:00:00</td><td>2021-02-10T00:00:00.000+0000</td><td>10</td><td>2</td><td>1</td><td>2021</td><td>41</td><td>4</td></tr></tbody></table></div>"
      ]
     },
     "metadata": {
      "application/vnd.databricks.v1+output": {
       "addedWidgets": {},
       "aggData": [],
       "aggError": "",
       "aggOverflow": false,
       "aggSchema": [],
       "aggSeriesLimitReached": false,
       "aggType": "",
       "arguments": {},
       "columnCustomDisplayInfos": {},
       "data": [
        [
         "2021-02-01 00:00:00",
         "2021-02-01T00:00:00.000+0000",
         1,
         2,
         1,
         2021,
         32,
         2
        ],
        [
         "2021-02-02 00:00:00",
         "2021-02-02T00:00:00.000+0000",
         2,
         2,
         1,
         2021,
         33,
         3
        ],
        [
         "2021-02-03 00:00:00",
         "2021-02-03T00:00:00.000+0000",
         3,
         2,
         1,
         2021,
         34,
         4
        ],
        [
         "2021-02-04 00:00:00",
         "2021-02-04T00:00:00.000+0000",
         4,
         2,
         1,
         2021,
         35,
         5
        ],
        [
         "2021-02-05 00:00:00",
         "2021-02-05T00:00:00.000+0000",
         5,
         2,
         1,
         2021,
         36,
         6
        ],
        [
         "2021-02-06 00:00:00",
         "2021-02-06T00:00:00.000+0000",
         6,
         2,
         1,
         2021,
         37,
         7
        ],
        [
         "2021-02-07 00:00:00",
         "2021-02-07T00:00:00.000+0000",
         7,
         2,
         1,
         2021,
         38,
         1
        ],
        [
         "2021-02-08 00:00:00",
         "2021-02-08T00:00:00.000+0000",
         8,
         2,
         1,
         2021,
         39,
         2
        ],
        [
         "2021-02-09 00:00:00",
         "2021-02-09T00:00:00.000+0000",
         9,
         2,
         1,
         2021,
         40,
         3
        ],
        [
         "2021-02-10 00:00:00",
         "2021-02-10T00:00:00.000+0000",
         10,
         2,
         1,
         2021,
         41,
         4
        ]
       ],
       "datasetInfos": [],
       "dbfsResultPath": null,
       "isJsonSchema": true,
       "metadata": {},
       "overflow": false,
       "plotOptions": {
        "customPlotOptions": {},
        "displayType": "table",
        "pivotAggregation": null,
        "pivotColumns": null,
        "xColumns": null,
        "yColumns": null
       },
       "removedWidgets": [],
       "schema": [
        {
         "metadata": "{}",
         "name": "time_id",
         "type": "\"string\""
        },
        {
         "metadata": "{}",
         "name": "date",
         "type": "\"timestamp\""
        },
        {
         "metadata": "{}",
         "name": "day",
         "type": "\"integer\""
        },
        {
         "metadata": "{}",
         "name": "month",
         "type": "\"integer\""
        },
        {
         "metadata": "{}",
         "name": "quarter",
         "type": "\"integer\""
        },
        {
         "metadata": "{}",
         "name": "year",
         "type": "\"integer\""
        },
        {
         "metadata": "{}",
         "name": "day_of_year",
         "type": "\"integer\""
        },
        {
         "metadata": "{}",
         "name": "day_of_week",
         "type": "\"integer\""
        }
       ],
       "type": "table"
      }
     },
     "output_type": "display_data"
    }
   ],
   "source": [
    "dim_date = dim_date.withColumn(\"day\", dayofmonth(dim_date.date)) \\\n",
    ".withColumn(\"month\", month(dim_date.date)) \\\n",
    ".withColumn(\"quarter\", quarter(dim_date.date)) \\\n",
    ".withColumn(\"year\", year(dim_date.date)) \\\n",
    ".withColumn(\"day_of_year\", dayofyear(dim_date.date)) \\\n",
    ".withColumn(\"day_of_week\", dayofweek(dim_date.date)) \\\n",
    ".withColumn(\"time_id\", dim_date.date.cast(StringType())) \\\n",
    ".drop(col(\"initial_date\"))\n",
    "\n",
    "display(dim_date.limit(10))"
   ]
  },
  {
   "cell_type": "code",
   "execution_count": 0,
   "metadata": {
    "application/vnd.databricks.v1+cell": {
     "cellMetadata": {
      "byteLimit": 2048000,
      "rowLimit": 10000
     },
     "inputWidgets": {},
     "nuid": "e45260c7-20dd-4893-a808-7317c1a45078",
     "showTitle": false,
     "title": ""
    }
   },
   "outputs": [
    {
     "output_type": "stream",
     "name": "stdout",
     "output_type": "stream",
     "text": [
      "Out[24]: DataFrame[]"
     ]
    }
   ],
   "source": [
    "spark.sql(\"DROP TABLE IF EXISTS dim_date\")"
   ]
  },
  {
   "cell_type": "code",
   "execution_count": 0,
   "metadata": {
    "application/vnd.databricks.v1+cell": {
     "cellMetadata": {
      "byteLimit": 2048000,
      "rowLimit": 10000
     },
     "inputWidgets": {},
     "nuid": "ca36133c-b595-4d91-a570-505188e2e1ce",
     "showTitle": false,
     "title": ""
    }
   },
   "outputs": [],
   "source": [
    "dim_date.write.format(\"delta\").mode(\"overwrite\").saveAsTable(\"dim_date\")"
   ]
  }
 ],
 "metadata": {
  "application/vnd.databricks.v1+notebook": {
   "dashboards": [],
   "language": "python",
   "notebookMetadata": {
    "mostRecentlyExecutedCommandWithImplicitDF": {
     "commandId": -1,
     "dataframes": [
      "_sqldf"
     ]
    },
    "pythonIndentUnit": 2
   },
   "notebookName": "transform",
   "widgets": {}
  }
 },
 "nbformat": 4,
 "nbformat_minor": 0
}
