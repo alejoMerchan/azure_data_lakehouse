{
 "cells": [
  {
   "cell_type": "code",
   "execution_count": 0,
   "metadata": {
    "application/vnd.databricks.v1+cell": {
     "cellMetadata": {
      "byteLimit": 2048000,
      "rowLimit": 10000
     },
     "inputWidgets": {},
     "nuid": "5d27dbe6-cc30-40d2-9e16-4191cc9a617c",
     "showTitle": false,
     "title": ""
    }
   },
   "outputs": [],
   "source": [
    "if(spark._jsparkSession.catalog().tableExists('delta.staging_paymets') == True):\n",
    "  spark.sql(\"DROP TABLE IF EXISTS staging_paymets\")\n",
    "else:\n",
    "  spark.sql(\"CREATE TABLE staging_paymets USING DELTA LOCATION '/delta/payments'\")"
   ]
  },
  {
   "cell_type": "code",
   "execution_count": 0,
   "metadata": {
    "application/vnd.databricks.v1+cell": {
     "cellMetadata": {
      "byteLimit": 2048000,
      "rowLimit": 10000
     },
     "inputWidgets": {},
     "nuid": "166a14d7-d71d-4741-a61d-47934cee4389",
     "showTitle": false,
     "title": ""
    }
   },
   "outputs": [],
   "source": [
    "if(spark._jsparkSession.catalog().tableExists('delta.staging_trips') == True):\n",
    "  spark.sql(\"DROP TABLE IF EXISTS staging_trips\")\n",
    "else:\n",
    "  spark.sql(\"CREATE TABLE staging_trips USING DELTA LOCATION '/delta/trips'\")"
   ]
  },
  {
   "cell_type": "code",
   "execution_count": 0,
   "metadata": {
    "application/vnd.databricks.v1+cell": {
     "cellMetadata": {
      "byteLimit": 2048000,
      "rowLimit": 10000
     },
     "inputWidgets": {},
     "nuid": "335ddbb3-ca2e-450b-aa7c-d00ad033ab11",
     "showTitle": false,
     "title": ""
    }
   },
   "outputs": [],
   "source": [
    "if(spark._jsparkSession.catalog().tableExists('delta.staging_stations') == True):\n",
    "  spark.sql(\"DROP TABLE IF EXISTS staging_stations\")\n",
    "else:\n",
    "  spark.sql(\"CREATE TABLE staging_stations USING DELTA LOCATION '/delta/stations'\")"
   ]
  },
  {
   "cell_type": "code",
   "execution_count": 0,
   "metadata": {
    "application/vnd.databricks.v1+cell": {
     "cellMetadata": {
      "byteLimit": 2048000,
      "rowLimit": 10000
     },
     "inputWidgets": {},
     "nuid": "d8a2efe9-ff52-4965-9613-d100867d5aaa",
     "showTitle": false,
     "title": ""
    }
   },
   "outputs": [],
   "source": [
    "if(spark._jsparkSession.catalog().tableExists('delta.staging_riders') == True):\n",
    "  spark.sql(\"DROP TABLE IF EXISTS staging_riders\")\n",
    "else:\n",
    "  spark.sql(\"CREATE TABLE staging_riders USING DELTA LOCATION '/delta/riders'\")"
   ]
  }
 ],
 "metadata": {
  "application/vnd.databricks.v1+notebook": {
   "dashboards": [],
   "language": "python",
   "notebookMetadata": {
    "pythonIndentUnit": 2
   },
   "notebookName": "load",
   "widgets": {}
  }
 },
 "nbformat": 4,
 "nbformat_minor": 0
}
